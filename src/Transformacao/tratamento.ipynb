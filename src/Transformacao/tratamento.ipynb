{
 "cells": [
  {
   "cell_type": "markdown",
   "id": "3c5394fa",
   "metadata": {},
   "source": [
    "Conversão de arquivo CSV para XLSX"
   ]
  },
  {
   "cell_type": "code",
   "execution_count": null,
   "id": "92f1f81a",
   "metadata": {},
   "outputs": [
    {
     "name": "stderr",
     "output_type": "stream",
     "text": [
      "<>:3: SyntaxWarning: invalid escape sequence '\\O'\n",
      "<>:4: SyntaxWarning: invalid escape sequence '\\O'\n",
      "<>:3: SyntaxWarning: invalid escape sequence '\\O'\n",
      "<>:4: SyntaxWarning: invalid escape sequence '\\O'\n",
      "C:\\Users\\pedro\\AppData\\Local\\Temp\\ipykernel_11408\\3286655308.py:3: SyntaxWarning: invalid escape sequence '\\O'\n",
      "  arquivo_csv = 'C:\\\\Users\\\\pedro\\OneDrive\\\\Área de Trabalho\\\\Python-projetos\\\\ETL_Filmow\\\\arquivoFilmes\\\\filmes.csv'\n",
      "C:\\Users\\pedro\\AppData\\Local\\Temp\\ipykernel_11408\\3286655308.py:4: SyntaxWarning: invalid escape sequence '\\O'\n",
      "  arquivo_xlsx = 'C:\\\\Users\\\\pedro\\OneDrive\\\\Área de Trabalho\\\\Python-projetos\\\\ETL_Filmow\\\\arquivoFilmes\\\\filmes.xlsx'\n"
     ]
    },
    {
     "name": "stdout",
     "output_type": "stream",
     "text": [
      "Arquivo C:\\Users\\pedro\\OneDrive\\Área de Trabalho\\Python-projetos\\ETL_Filmow\\arquivoFilmes\\filmes.csv convertido para C:\\Users\\pedro\\OneDrive\\Área de Trabalho\\Python-projetos\\ETL_Filmow\\arquivoFilmes\\filmes.xlsx com sucesso!\n"
     ]
    }
   ],
   "source": [
    "import pandas as pd\n",
    "\n",
    "arquivo_csv = 'C:\\\\Users\\\\pedro\\\\OneDrive\\\\Área de Trabalho\\\\Python-projetos\\\\ETL_Filmow\\\\arquivoFilmes\\\\filmes.csv'\n",
    "arquivo_xlsx = 'C:\\\\Users\\\\pedro\\\\OneDrive\\\\Área de Trabalho\\\\Python-projetos\\\\ETL_Filmow\\\\arquivoFilmes\\\\filmes.xlsx'\n",
    "\n",
    "filme = pd.read_csv(arquivo_csv)\n",
    "filme.to_excel(arquivo_xlsx, index=False)\n",
    "\n",
    "print(f'Arquivo {arquivo_csv} convertido para {arquivo_xlsx} com sucesso!')"
   ]
  },
  {
   "cell_type": "markdown",
   "id": "4eacf53c",
   "metadata": {},
   "source": [
    "Visitando o arquivo XLSX e eliminando algumas informações da coluna 'Nota'."
   ]
  },
  {
   "cell_type": "code",
   "execution_count": 7,
   "id": "de2b2839",
   "metadata": {},
   "outputs": [],
   "source": [
    "arquivoFilme = 'C:\\\\Users\\\\pedro\\\\OneDrive\\\\Área de Trabalho\\\\Python-projetos\\\\ETL_Filmow\\\\arquivoFilmes\\\\filmes.xlsx'\n",
    "\n",
    "filme = pd.read_excel(arquivoFilme)\n",
    "filme['Nota'] = filme['Nota'].astype(str).str.extract(r'(\\d+(\\.\\d+)?)')[0].astype(float)\n",
    "filme.to_excel(arquivoFilme, index=False)\n",
    "\n",
    "#print(filme)\n"
   ]
  }
 ],
 "metadata": {
  "kernelspec": {
   "display_name": "Python 3",
   "language": "python",
   "name": "python3"
  },
  "language_info": {
   "codemirror_mode": {
    "name": "ipython",
    "version": 3
   },
   "file_extension": ".py",
   "mimetype": "text/x-python",
   "name": "python",
   "nbconvert_exporter": "python",
   "pygments_lexer": "ipython3",
   "version": "3.12.10"
  }
 },
 "nbformat": 4,
 "nbformat_minor": 5
}
